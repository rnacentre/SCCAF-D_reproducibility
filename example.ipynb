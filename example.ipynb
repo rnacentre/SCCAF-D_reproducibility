{
 "cells": [
  {
   "cell_type": "code",
   "execution_count": 2,
   "id": "7780fdf9-f999-4187-bfd0-b2ce5177152a",
   "metadata": {},
   "outputs": [
    {
     "name": "stdout",
     "output_type": "stream",
     "text": [
      "/home/feng_shuo/deconvolution\n"
     ]
    }
   ],
   "source": [
    "!pwd"
   ]
  },
  {
   "cell_type": "code",
   "execution_count": null,
   "id": "317eb99b-0ec6-4c16-9576-d897776901d0",
   "metadata": {},
   "outputs": [],
   "source": [
    "setwd('home/fengshuo/')#Specify where to store your files, and put all your files in one folder"
   ]
  },
  {
   "cell_type": "code",
   "execution_count": null,
   "id": "39f6aa02-7fab-4185-ba3f-9f3dfcc7910b",
   "metadata": {},
   "outputs": [],
   "source": [
    "param=c(\"pseudobulk_Baron_T.rds\",'Seger.rds',\"none\",\"sc\",\"TMM\",\"TMM\",'DWLS',10000,\"none\",1,'F')\n",
    "results <- SCCAF_D(param,python_home='/home/feng_shuo/miniconda3/envs/sccaf/bin/python')"
   ]
  },
  {
   "cell_type": "code",
   "execution_count": null,
   "id": "b8961817-e5df-448e-9c3a-2fa518d78d9a",
   "metadata": {},
   "outputs": [],
   "source": []
  }
 ],
 "metadata": {
  "kernelspec": {
   "display_name": "Python [conda env:sccaf]",
   "language": "python",
   "name": "conda-env-sccaf-py"
  },
  "language_info": {
   "codemirror_mode": {
    "name": "ipython",
    "version": 3
   },
   "file_extension": ".py",
   "mimetype": "text/x-python",
   "name": "python",
   "nbconvert_exporter": "python",
   "pygments_lexer": "ipython3",
   "version": "3.9.13"
  }
 },
 "nbformat": 4,
 "nbformat_minor": 5
}
